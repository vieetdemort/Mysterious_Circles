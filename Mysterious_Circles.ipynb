{
  "nbformat": 4,
  "nbformat_minor": 0,
  "metadata": {
    "colab": {
      "provenance": [],
      "authorship_tag": "ABX9TyMDQJESmDJj0VK+Vb9NbkG4",
      "include_colab_link": true
    },
    "kernelspec": {
      "name": "python3",
      "display_name": "Python 3"
    },
    "language_info": {
      "name": "python"
    }
  },
  "cells": [
    {
      "cell_type": "markdown",
      "metadata": {
        "id": "view-in-github",
        "colab_type": "text"
      },
      "source": [
        "<a href=\"https://colab.research.google.com/github/vieetdemort/Mysterious_Circles/blob/main/Mysterious_Circles.ipynb\" target=\"_parent\"><img src=\"https://colab.research.google.com/assets/colab-badge.svg\" alt=\"Open In Colab\"/></a>"
      ]
    },
    {
      "cell_type": "markdown",
      "source": [
        "# **Mysterious circles**"
      ],
      "metadata": {
        "id": "u8LjAy-5dsmV"
      }
    },
    {
      "cell_type": "code",
      "execution_count": 44,
      "metadata": {
        "id": "fXQZsWjHbxh9"
      },
      "outputs": [],
      "source": [
        "import pandas as pd\n",
        "import numpy as np\n",
        "from catboost import CatBoostClassifier\n",
        "import seaborn as sns \n",
        "import matplotlib.pylab as plt\n",
        "%matplotlib inline\n",
        "from sklearn.model_selection import train_test_split\n",
        "from sklearn.metrics import r2_score, roc_auc_score"
      ]
    },
    {
      "cell_type": "code",
      "source": [
        "url = 'https://docs.google.com/spreadsheets/d/1n3_s-MAVuZCGsfqmU9RhoUYcnM_QU4o2NQvAmVfwgpc/edit?usp=sharing'"
      ],
      "metadata": {
        "id": "mHsoOlGxb4Sq"
      },
      "execution_count": null,
      "outputs": []
    },
    {
      "cell_type": "markdown",
      "source": [
        "In the file dataset.csv you will find a synthetic selection. It contains 5 attributes and one target variable.\n",
        "\n",
        "It is necessary to train a classifier with the highest generalization ability on this data. The metric used to evaluate the quality of the classifier is ROC-AUC. It should be noted in advance that if it is not possible to obtain a ROC-AUC above 70%, it means that some strong characters have not been invented. At the same time, it is suggested to pay attention not only to the accuracy of the classifier, but also to the design of the code, the study of the data, and a competent assessment of the quality of the resulting model - all this is also evaluated, and some of it can also help to create a better model.\n",
        "\n",
        "The solution must be submitted in the form of a Python script or a Jupiter Notebook. Comments and diagrams are welcome."
      ],
      "metadata": {
        "id": "rIk_NcfSdSiA"
      }
    },
    {
      "cell_type": "code",
      "source": [
        "id = url.split('/')[5]"
      ],
      "metadata": {
        "id": "66OGmSWbcDbM"
      },
      "execution_count": null,
      "outputs": []
    },
    {
      "cell_type": "code",
      "source": [
        "df = pd.read_csv(f'https://docs.google.com/spreadsheets/d/{id}/export?format=csv')"
      ],
      "metadata": {
        "id": "bShRlsNJcEr0"
      },
      "execution_count": null,
      "outputs": []
    },
    {
      "cell_type": "code",
      "source": [
        "df.head()\n"
      ],
      "metadata": {
        "colab": {
          "base_uri": "https://localhost:8080/",
          "height": 206
        },
        "id": "dKwCzkNMchXz",
        "outputId": "359e1706-9135-4e18-de14-5bcebf110ef8"
      },
      "execution_count": null,
      "outputs": [
        {
          "output_type": "execute_result",
          "data": {
            "text/plain": [
              "   feature_1  feature_2  feature_3  feature_4  feature_5  target\n",
              "0   0.433306  -4.106981   1.252722   4.842634   7.610817       1\n",
              "1  -0.216705   3.832332 -10.054348  -1.106758   1.987823       0\n",
              "2   8.574821  -2.495187   5.404009  -6.219058   6.954602       1\n",
              "3   7.673529  -4.234502   8.135008   3.748393   3.457908       0\n",
              "4   3.548824  -2.588106  -2.095070   7.993792  -3.523852       1"
            ],
            "text/html": [
              "\n",
              "  <div id=\"df-bc9111b5-b22a-42fa-9bd7-c22e0f5c0f28\">\n",
              "    <div class=\"colab-df-container\">\n",
              "      <div>\n",
              "<style scoped>\n",
              "    .dataframe tbody tr th:only-of-type {\n",
              "        vertical-align: middle;\n",
              "    }\n",
              "\n",
              "    .dataframe tbody tr th {\n",
              "        vertical-align: top;\n",
              "    }\n",
              "\n",
              "    .dataframe thead th {\n",
              "        text-align: right;\n",
              "    }\n",
              "</style>\n",
              "<table border=\"1\" class=\"dataframe\">\n",
              "  <thead>\n",
              "    <tr style=\"text-align: right;\">\n",
              "      <th></th>\n",
              "      <th>feature_1</th>\n",
              "      <th>feature_2</th>\n",
              "      <th>feature_3</th>\n",
              "      <th>feature_4</th>\n",
              "      <th>feature_5</th>\n",
              "      <th>target</th>\n",
              "    </tr>\n",
              "  </thead>\n",
              "  <tbody>\n",
              "    <tr>\n",
              "      <th>0</th>\n",
              "      <td>0.433306</td>\n",
              "      <td>-4.106981</td>\n",
              "      <td>1.252722</td>\n",
              "      <td>4.842634</td>\n",
              "      <td>7.610817</td>\n",
              "      <td>1</td>\n",
              "    </tr>\n",
              "    <tr>\n",
              "      <th>1</th>\n",
              "      <td>-0.216705</td>\n",
              "      <td>3.832332</td>\n",
              "      <td>-10.054348</td>\n",
              "      <td>-1.106758</td>\n",
              "      <td>1.987823</td>\n",
              "      <td>0</td>\n",
              "    </tr>\n",
              "    <tr>\n",
              "      <th>2</th>\n",
              "      <td>8.574821</td>\n",
              "      <td>-2.495187</td>\n",
              "      <td>5.404009</td>\n",
              "      <td>-6.219058</td>\n",
              "      <td>6.954602</td>\n",
              "      <td>1</td>\n",
              "    </tr>\n",
              "    <tr>\n",
              "      <th>3</th>\n",
              "      <td>7.673529</td>\n",
              "      <td>-4.234502</td>\n",
              "      <td>8.135008</td>\n",
              "      <td>3.748393</td>\n",
              "      <td>3.457908</td>\n",
              "      <td>0</td>\n",
              "    </tr>\n",
              "    <tr>\n",
              "      <th>4</th>\n",
              "      <td>3.548824</td>\n",
              "      <td>-2.588106</td>\n",
              "      <td>-2.095070</td>\n",
              "      <td>7.993792</td>\n",
              "      <td>-3.523852</td>\n",
              "      <td>1</td>\n",
              "    </tr>\n",
              "  </tbody>\n",
              "</table>\n",
              "</div>\n",
              "      <button class=\"colab-df-convert\" onclick=\"convertToInteractive('df-bc9111b5-b22a-42fa-9bd7-c22e0f5c0f28')\"\n",
              "              title=\"Convert this dataframe to an interactive table.\"\n",
              "              style=\"display:none;\">\n",
              "        \n",
              "  <svg xmlns=\"http://www.w3.org/2000/svg\" height=\"24px\"viewBox=\"0 0 24 24\"\n",
              "       width=\"24px\">\n",
              "    <path d=\"M0 0h24v24H0V0z\" fill=\"none\"/>\n",
              "    <path d=\"M18.56 5.44l.94 2.06.94-2.06 2.06-.94-2.06-.94-.94-2.06-.94 2.06-2.06.94zm-11 1L8.5 8.5l.94-2.06 2.06-.94-2.06-.94L8.5 2.5l-.94 2.06-2.06.94zm10 10l.94 2.06.94-2.06 2.06-.94-2.06-.94-.94-2.06-.94 2.06-2.06.94z\"/><path d=\"M17.41 7.96l-1.37-1.37c-.4-.4-.92-.59-1.43-.59-.52 0-1.04.2-1.43.59L10.3 9.45l-7.72 7.72c-.78.78-.78 2.05 0 2.83L4 21.41c.39.39.9.59 1.41.59.51 0 1.02-.2 1.41-.59l7.78-7.78 2.81-2.81c.8-.78.8-2.07 0-2.86zM5.41 20L4 18.59l7.72-7.72 1.47 1.35L5.41 20z\"/>\n",
              "  </svg>\n",
              "      </button>\n",
              "      \n",
              "  <style>\n",
              "    .colab-df-container {\n",
              "      display:flex;\n",
              "      flex-wrap:wrap;\n",
              "      gap: 12px;\n",
              "    }\n",
              "\n",
              "    .colab-df-convert {\n",
              "      background-color: #E8F0FE;\n",
              "      border: none;\n",
              "      border-radius: 50%;\n",
              "      cursor: pointer;\n",
              "      display: none;\n",
              "      fill: #1967D2;\n",
              "      height: 32px;\n",
              "      padding: 0 0 0 0;\n",
              "      width: 32px;\n",
              "    }\n",
              "\n",
              "    .colab-df-convert:hover {\n",
              "      background-color: #E2EBFA;\n",
              "      box-shadow: 0px 1px 2px rgba(60, 64, 67, 0.3), 0px 1px 3px 1px rgba(60, 64, 67, 0.15);\n",
              "      fill: #174EA6;\n",
              "    }\n",
              "\n",
              "    [theme=dark] .colab-df-convert {\n",
              "      background-color: #3B4455;\n",
              "      fill: #D2E3FC;\n",
              "    }\n",
              "\n",
              "    [theme=dark] .colab-df-convert:hover {\n",
              "      background-color: #434B5C;\n",
              "      box-shadow: 0px 1px 3px 1px rgba(0, 0, 0, 0.15);\n",
              "      filter: drop-shadow(0px 1px 2px rgba(0, 0, 0, 0.3));\n",
              "      fill: #FFFFFF;\n",
              "    }\n",
              "  </style>\n",
              "\n",
              "      <script>\n",
              "        const buttonEl =\n",
              "          document.querySelector('#df-bc9111b5-b22a-42fa-9bd7-c22e0f5c0f28 button.colab-df-convert');\n",
              "        buttonEl.style.display =\n",
              "          google.colab.kernel.accessAllowed ? 'block' : 'none';\n",
              "\n",
              "        async function convertToInteractive(key) {\n",
              "          const element = document.querySelector('#df-bc9111b5-b22a-42fa-9bd7-c22e0f5c0f28');\n",
              "          const dataTable =\n",
              "            await google.colab.kernel.invokeFunction('convertToInteractive',\n",
              "                                                     [key], {});\n",
              "          if (!dataTable) return;\n",
              "\n",
              "          const docLinkHtml = 'Like what you see? Visit the ' +\n",
              "            '<a target=\"_blank\" href=https://colab.research.google.com/notebooks/data_table.ipynb>data table notebook</a>'\n",
              "            + ' to learn more about interactive tables.';\n",
              "          element.innerHTML = '';\n",
              "          dataTable['output_type'] = 'display_data';\n",
              "          await google.colab.output.renderOutput(dataTable, element);\n",
              "          const docLink = document.createElement('div');\n",
              "          docLink.innerHTML = docLinkHtml;\n",
              "          element.appendChild(docLink);\n",
              "        }\n",
              "      </script>\n",
              "    </div>\n",
              "  </div>\n",
              "  "
            ]
          },
          "metadata": {},
          "execution_count": 7
        }
      ]
    },
    {
      "cell_type": "code",
      "source": [
        "#checking for data types\n",
        "df.dtypes.value_counts()"
      ],
      "metadata": {
        "colab": {
          "base_uri": "https://localhost:8080/"
        },
        "id": "7094KEXHcifz",
        "outputId": "b1a0da29-a9f6-406b-fdcf-c12f3844bbcb"
      },
      "execution_count": null,
      "outputs": [
        {
          "output_type": "execute_result",
          "data": {
            "text/plain": [
              "float64    5\n",
              "int64      1\n",
              "dtype: int64"
            ]
          },
          "metadata": {},
          "execution_count": 12
        }
      ]
    },
    {
      "cell_type": "code",
      "source": [
        "#Checking data for a null value\n",
        "df.isna().mean()"
      ],
      "metadata": {
        "id": "VPZUotq3ehFC",
        "colab": {
          "base_uri": "https://localhost:8080/"
        },
        "outputId": "e6be12a7-78a9-4621-8507-c663c63b6d35"
      },
      "execution_count": 13,
      "outputs": [
        {
          "output_type": "execute_result",
          "data": {
            "text/plain": [
              "feature_1    0.0\n",
              "feature_2    0.0\n",
              "feature_3    0.0\n",
              "feature_4    0.0\n",
              "feature_5    0.0\n",
              "target       0.0\n",
              "dtype: float64"
            ]
          },
          "metadata": {},
          "execution_count": 13
        }
      ]
    },
    {
      "cell_type": "code",
      "source": [
        "df['target'].mean()"
      ],
      "metadata": {
        "colab": {
          "base_uri": "https://localhost:8080/"
        },
        "id": "OvkGuUAWfbua",
        "outputId": "4e24776e-f8e7-411c-df38-dadbb8de964e"
      },
      "execution_count": 14,
      "outputs": [
        {
          "output_type": "execute_result",
          "data": {
            "text/plain": [
              "0.6"
            ]
          },
          "metadata": {},
          "execution_count": 14
        }
      ]
    },
    {
      "cell_type": "markdown",
      "source": [
        "## SPLIT DATA"
      ],
      "metadata": {
        "id": "Alx_cDyPg382"
      }
    },
    {
      "cell_type": "code",
      "source": [
        "X = df.drop(columns=['target']).copy()\n",
        "Y = df['target']"
      ],
      "metadata": {
        "id": "G07aEAC_gvZJ"
      },
      "execution_count": 20,
      "outputs": []
    },
    {
      "cell_type": "code",
      "source": [
        "X_train, X_test, y_train, y_test = train_test_split(X, Y, test_size=0.3, random_state=42)"
      ],
      "metadata": {
        "id": "BF-hJ471hDWX"
      },
      "execution_count": 31,
      "outputs": []
    },
    {
      "cell_type": "markdown",
      "source": [
        "## CATBOOST"
      ],
      "metadata": {
        "id": "-8bSDc6BjmgK"
      }
    },
    {
      "cell_type": "code",
      "source": [
        "model = CatBoostClassifier(verbose=100, eval_metric='AUC')"
      ],
      "metadata": {
        "id": "gpf4r2L1i3Jk"
      },
      "execution_count": 37,
      "outputs": []
    },
    {
      "cell_type": "code",
      "source": [
        "model.fit(X_train, y_train, eval_set=(X_test, y_test))"
      ],
      "metadata": {
        "colab": {
          "base_uri": "https://localhost:8080/"
        },
        "id": "DkTQsLlujyrL",
        "outputId": "edcd8e5d-befd-47c3-bdff-73af0c8af0b0"
      },
      "execution_count": 38,
      "outputs": [
        {
          "output_type": "stream",
          "name": "stdout",
          "text": [
            "Learning rate set to 0.038062\n",
            "0:\ttest: 0.5224025\tbest: 0.5224025 (0)\ttotal: 4.88ms\tremaining: 4.88s\n",
            "100:\ttest: 0.5137499\tbest: 0.5434278 (2)\ttotal: 240ms\tremaining: 2.14s\n",
            "200:\ttest: 0.5105113\tbest: 0.5434278 (2)\ttotal: 478ms\tremaining: 1.9s\n",
            "300:\ttest: 0.5235173\tbest: 0.5434278 (2)\ttotal: 725ms\tremaining: 1.68s\n",
            "400:\ttest: 0.5204743\tbest: 0.5434278 (2)\ttotal: 969ms\tremaining: 1.45s\n",
            "500:\ttest: 0.5185332\tbest: 0.5434278 (2)\ttotal: 1.21s\tremaining: 1.21s\n",
            "600:\ttest: 0.5193519\tbest: 0.5434278 (2)\ttotal: 1.46s\tremaining: 972ms\n",
            "700:\ttest: 0.5199491\tbest: 0.5434278 (2)\ttotal: 1.72s\tremaining: 733ms\n",
            "800:\ttest: 0.5232856\tbest: 0.5434278 (2)\ttotal: 1.98s\tremaining: 491ms\n",
            "900:\ttest: 0.5228891\tbest: 0.5434278 (2)\ttotal: 2.23s\tremaining: 245ms\n",
            "999:\ttest: 0.5237644\tbest: 0.5434278 (2)\ttotal: 2.48s\tremaining: 0us\n",
            "\n",
            "bestTest = 0.54342778\n",
            "bestIteration = 2\n",
            "\n",
            "Shrink model to first 3 iterations.\n"
          ]
        },
        {
          "output_type": "execute_result",
          "data": {
            "text/plain": [
              "<catboost.core.CatBoostClassifier at 0x7f17b840e3d0>"
            ]
          },
          "metadata": {},
          "execution_count": 38
        }
      ]
    },
    {
      "cell_type": "markdown",
      "source": [],
      "metadata": {
        "id": "Z_h8dvnFoiCi"
      }
    },
    {
      "cell_type": "code",
      "source": [
        "#Calculate roc auc\n",
        "roc_auc = roc_auc_score(y_true=y_test, y_score=model.predict_proba(X_test)[:,1])\n",
        "roc_auc"
      ],
      "metadata": {
        "colab": {
          "base_uri": "https://localhost:8080/"
        },
        "id": "lfzCjtAZmET5",
        "outputId": "e0370259-1d36-4258-9132-14972b0e10ce"
      },
      "execution_count": 56,
      "outputs": [
        {
          "output_type": "execute_result",
          "data": {
            "text/plain": [
              "0.5434277799803315"
            ]
          },
          "metadata": {},
          "execution_count": 56
        }
      ]
    },
    {
      "cell_type": "code",
      "source": [],
      "metadata": {
        "id": "lqmdoupzoXNp"
      },
      "execution_count": null,
      "outputs": []
    }
  ]
}